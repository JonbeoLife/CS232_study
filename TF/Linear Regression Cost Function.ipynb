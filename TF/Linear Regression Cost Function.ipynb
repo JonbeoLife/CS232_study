{
 "cells": [
  {
   "cell_type": "code",
   "id": "initial_id",
   "metadata": {
    "collapsed": true,
    "ExecuteTime": {
     "end_time": "2025-01-10T02:55:57.549487Z",
     "start_time": "2025-01-10T02:55:57.441498Z"
    }
   },
   "source": [
    "import tensorflow as tf\n",
    "\n",
    "# X and Y data\n",
    "x_train=[1,2,3]\n",
    "y_train=[1,2,3]\n",
    "\n",
    "W=tf.Variable(tf.random.normal([1]), name='weight')\n",
    "b=tf.Variable(tf.random.normal([1]), name='bias')\n",
    "\n",
    "#Our hypothesis\n",
    "hypothesis=x_train*W+b\n",
    "\n",
    "#cost/loss function\n",
    "cost=tf.reduce_mean(tf.square(hypothesis-y_train))\n",
    "\n",
    "#Minimize\n",
    "optimizer=tf.train.GradientDescentOptimizer(learning_rate=0.01)\n",
    "train=optimizer.minimize(cost)\n",
    "\n",
    "#Launch the graph in a session\n",
    "sess=tf.Session()\n",
    "\n",
    "# Initializes global variables in the graph\n",
    "sess.run(tf.global_variables_initializer())\n",
    "\n",
    "# Fit the line\n",
    "for step in range(2001):\n",
    "    sess.run(train)\n",
    "    if step % 20 == 0:\n",
    "        print(step, sess.run(cost), sess.run(W), sess.run(b))\n"
   ],
   "outputs": [],
   "execution_count": 2
  }
 ],
 "metadata": {
  "kernelspec": {
   "display_name": "Python 3",
   "language": "python",
   "name": "python3"
  },
  "language_info": {
   "codemirror_mode": {
    "name": "ipython",
    "version": 2
   },
   "file_extension": ".py",
   "mimetype": "text/x-python",
   "name": "python",
   "nbconvert_exporter": "python",
   "pygments_lexer": "ipython2",
   "version": "2.7.6"
  }
 },
 "nbformat": 4,
 "nbformat_minor": 5
}
