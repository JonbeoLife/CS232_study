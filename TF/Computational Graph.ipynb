{
 "cells": [
  {
   "cell_type": "code",
   "id": "initial_id",
   "metadata": {
    "collapsed": true,
    "ExecuteTime": {
     "end_time": "2025-01-08T07:10:58.931934Z",
     "start_time": "2025-01-08T07:10:58.926856Z"
    }
   },
   "source": "import tensorflow as tf",
   "outputs": [],
   "execution_count": 2
  },
  {
   "metadata": {
    "ExecuteTime": {
     "end_time": "2025-01-08T07:11:00.279382Z",
     "start_time": "2025-01-08T07:11:00.235073Z"
    }
   },
   "cell_type": "code",
   "source": [
    "node1=tf.constant(3.0, tf.float32)\n",
    "node2=tf.constant(4.0, tf.float32)\n",
    "node3=tf.add(node1,node2)"
   ],
   "id": "bb21814a0cd8e112",
   "outputs": [],
   "execution_count": 3
  },
  {
   "metadata": {
    "ExecuteTime": {
     "end_time": "2025-01-08T07:11:01.591663Z",
     "start_time": "2025-01-08T07:11:01.586193Z"
    }
   },
   "cell_type": "code",
   "source": [
    "print(\"node1:\", node1, \"node2:\", node2)\n",
    "print(\"node3:\", node3)"
   ],
   "id": "b3739a3d1349e621",
   "outputs": [
    {
     "name": "stdout",
     "output_type": "stream",
     "text": [
      "node1: tf.Tensor(3.0, shape=(), dtype=float32) node2: tf.Tensor(4.0, shape=(), dtype=float32)\n",
      "node3: tf.Tensor(7.0, shape=(), dtype=float32)\n"
     ]
    }
   ],
   "execution_count": 4
  },
  {
   "metadata": {
    "ExecuteTime": {
     "end_time": "2025-01-08T07:11:14.513212Z",
     "start_time": "2025-01-08T07:11:14.488401Z"
    }
   },
   "cell_type": "code",
   "source": [
    "sess=tf.Session()\n",
    "print(\"sess.run(node1, node2): \",sess.run([node1, node2]))\n",
    "print(\"sess.run(node3): \", sess.run(node3))"
   ],
   "id": "13660fbbf6efff9b",
   "outputs": [
    {
     "ename": "AttributeError",
     "evalue": "module 'tensorflow' has no attribute 'Session'",
     "output_type": "error",
     "traceback": [
      "\u001B[1;31m---------------------------------------------------------------------------\u001B[0m",
      "\u001B[1;31mAttributeError\u001B[0m                            Traceback (most recent call last)",
      "Cell \u001B[1;32mIn[6], line 1\u001B[0m\n\u001B[1;32m----> 1\u001B[0m sess\u001B[38;5;241m=\u001B[39m\u001B[43mtf\u001B[49m\u001B[38;5;241;43m.\u001B[39;49m\u001B[43mSession\u001B[49m()\n\u001B[0;32m      2\u001B[0m \u001B[38;5;28mprint\u001B[39m(\u001B[38;5;124m\"\u001B[39m\u001B[38;5;124msess.run(node1, node2): \u001B[39m\u001B[38;5;124m\"\u001B[39m,sess\u001B[38;5;241m.\u001B[39mrun([node1, node2]))\n\u001B[0;32m      3\u001B[0m \u001B[38;5;28mprint\u001B[39m(\u001B[38;5;124m\"\u001B[39m\u001B[38;5;124msess.run(node3): \u001B[39m\u001B[38;5;124m\"\u001B[39m, sess\u001B[38;5;241m.\u001B[39mrun(node3))\n",
      "\u001B[1;31mAttributeError\u001B[0m: module 'tensorflow' has no attribute 'Session'"
     ]
    }
   ],
   "execution_count": 6
  },
  {
   "metadata": {
    "ExecuteTime": {
     "end_time": "2025-01-08T07:20:15.818089Z",
     "start_time": "2025-01-08T07:20:15.810285Z"
    }
   },
   "cell_type": "code",
   "source": [
    "# Eager Execution 방식으로 실행\n",
    "print(\"node1, node2: \", node1.numpy(), node2.numpy())\n",
    "print(\"node3: \", node3.numpy())"
   ],
   "id": "f44de05e71a502ed",
   "outputs": [
    {
     "name": "stdout",
     "output_type": "stream",
     "text": [
      "node1, node2:  3.0 4.0\n",
      "node3:  7.0\n"
     ]
    }
   ],
   "execution_count": 7
  }
 ],
 "metadata": {
  "kernelspec": {
   "display_name": "Python 3",
   "language": "python",
   "name": "python3"
  },
  "language_info": {
   "codemirror_mode": {
    "name": "ipython",
    "version": 2
   },
   "file_extension": ".py",
   "mimetype": "text/x-python",
   "name": "python",
   "nbconvert_exporter": "python",
   "pygments_lexer": "ipython2",
   "version": "2.7.6"
  }
 },
 "nbformat": 4,
 "nbformat_minor": 5
}
